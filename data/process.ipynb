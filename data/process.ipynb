{
 "cells": [
  {
   "cell_type": "code",
   "execution_count": 8,
   "metadata": {},
   "outputs": [],
   "source": [
    "import pandas as pd\n",
    "\n",
    "hadiths = pd.read_csv('raw/kaggle_hadiths_clean.csv')\n",
    "rawis = pd.read_csv('raw/kaggle_rawis.csv')"
   ]
  },
  {
   "cell_type": "markdown",
   "metadata": {},
   "source": [
    "## Hadiths Cleanup"
   ]
  },
  {
   "cell_type": "code",
   "execution_count": 9,
   "metadata": {},
   "outputs": [
    {
     "name": "stdout",
     "output_type": "stream",
     "text": [
      "<class 'pandas.core.frame.DataFrame'>\n",
      "RangeIndex: 34441 entries, 0 to 34440\n",
      "Data columns (total 9 columns):\n",
      " #   Column      Non-Null Count  Dtype \n",
      "---  ------      --------------  ----- \n",
      " 0   id          34441 non-null  int64 \n",
      " 1   hadith_id   34441 non-null  int64 \n",
      " 2   source      34441 non-null  object\n",
      " 3   chapter_no  34441 non-null  int64 \n",
      " 4   hadith_no   34441 non-null  object\n",
      " 5   chapter     34441 non-null  object\n",
      " 6   chain_indx  34318 non-null  object\n",
      " 7   text_ar     34433 non-null  object\n",
      " 8   text_en     33588 non-null  object\n",
      "dtypes: int64(3), object(6)\n",
      "memory usage: 2.4+ MB\n"
     ]
    }
   ],
   "source": [
    "hadiths.info()"
   ]
  },
  {
   "cell_type": "code",
   "execution_count": 10,
   "metadata": {},
   "outputs": [],
   "source": [
    "hadiths.dropna(inplace=True)"
   ]
  },
  {
   "cell_type": "code",
   "execution_count": 11,
   "metadata": {},
   "outputs": [
    {
     "name": "stdout",
     "output_type": "stream",
     "text": [
      "<class 'pandas.core.frame.DataFrame'>\n",
      "Index: 33536 entries, 0 to 34440\n",
      "Data columns (total 9 columns):\n",
      " #   Column      Non-Null Count  Dtype \n",
      "---  ------      --------------  ----- \n",
      " 0   id          33536 non-null  int64 \n",
      " 1   hadith_id   33536 non-null  int64 \n",
      " 2   source      33536 non-null  object\n",
      " 3   chapter_no  33536 non-null  int64 \n",
      " 4   hadith_no   33536 non-null  object\n",
      " 5   chapter     33536 non-null  object\n",
      " 6   chain_indx  33536 non-null  object\n",
      " 7   text_ar     33536 non-null  object\n",
      " 8   text_en     33536 non-null  object\n",
      "dtypes: int64(3), object(6)\n",
      "memory usage: 2.6+ MB\n"
     ]
    }
   ],
   "source": [
    "hadiths.info()"
   ]
  },
  {
   "cell_type": "markdown",
   "metadata": {},
   "source": [
    "### Drop Duplicates"
   ]
  },
  {
   "cell_type": "code",
   "execution_count": 12,
   "metadata": {},
   "outputs": [],
   "source": [
    "ids_with_duplicates = hadiths.hadith_id.value_counts()[hadiths.hadith_id.value_counts() > 1].index"
   ]
  },
  {
   "cell_type": "code",
   "execution_count": 13,
   "metadata": {},
   "outputs": [
    {
     "data": {
      "text/plain": [
       "True"
      ]
     },
     "execution_count": 13,
     "metadata": {},
     "output_type": "execute_result"
    }
   ],
   "source": [
    "hadiths.drop_duplicates(subset='hadith_id', inplace=True)\n",
    "# Keep first occurence\n",
    "hadiths[hadiths.hadith_id.isin(ids_with_duplicates)].shape[0] == len(ids_with_duplicates)\n"
   ]
  },
  {
   "cell_type": "code",
   "execution_count": 14,
   "metadata": {},
   "outputs": [
    {
     "data": {
      "text/plain": [
       "hadith_id\n",
       "1        1\n",
       "1029     1\n",
       "4        1\n",
       "5        1\n",
       "6        1\n",
       "        ..\n",
       "54224    1\n",
       "54225    1\n",
       "54226    1\n",
       "54213    1\n",
       "54227    1\n",
       "Name: count, Length: 32798, dtype: int64"
      ]
     },
     "execution_count": 14,
     "metadata": {},
     "output_type": "execute_result"
    }
   ],
   "source": [
    "hadiths.hadith_id.value_counts().sort_values(ascending=False)"
   ]
  },
  {
   "cell_type": "code",
   "execution_count": 15,
   "metadata": {},
   "outputs": [],
   "source": [
    "hadiths.drop(\"hadith_no\", axis=1, inplace=True)"
   ]
  },
  {
   "cell_type": "code",
   "execution_count": 16,
   "metadata": {},
   "outputs": [],
   "source": [
    "hadiths.rename({\"hadith_id\": \"hadith_no\"}, axis=1, inplace=True)"
   ]
  },
  {
   "cell_type": "code",
   "execution_count": 17,
   "metadata": {},
   "outputs": [
    {
     "name": "stdout",
     "output_type": "stream",
     "text": [
      "<class 'pandas.core.frame.DataFrame'>\n",
      "Index: 32798 entries, 0 to 34440\n",
      "Data columns (total 8 columns):\n",
      " #   Column      Non-Null Count  Dtype \n",
      "---  ------      --------------  ----- \n",
      " 0   id          32798 non-null  int64 \n",
      " 1   hadith_no   32798 non-null  int64 \n",
      " 2   source      32798 non-null  object\n",
      " 3   chapter_no  32798 non-null  int64 \n",
      " 4   chapter     32798 non-null  object\n",
      " 5   chain_indx  32798 non-null  object\n",
      " 6   text_ar     32798 non-null  object\n",
      " 7   text_en     32798 non-null  object\n",
      "dtypes: int64(3), object(5)\n",
      "memory usage: 2.3+ MB\n"
     ]
    }
   ],
   "source": [
    "hadiths.info()"
   ]
  },
  {
   "cell_type": "markdown",
   "metadata": {},
   "source": [
    "### Missing Sanad Data"
   ]
  },
  {
   "cell_type": "code",
   "execution_count": 19,
   "metadata": {},
   "outputs": [
    {
     "data": {
      "text/plain": [
       "0        None\n",
       "1        None\n",
       "2        None\n",
       "3        None\n",
       "4        None\n",
       "         ... \n",
       "34436    None\n",
       "34437    None\n",
       "34438    None\n",
       "34439    None\n",
       "34440    None\n",
       "Length: 32798, dtype: object"
      ]
     },
     "execution_count": 19,
     "metadata": {},
     "output_type": "execute_result"
    }
   ],
   "source": [
    "hadith_id_to_scholar_array = dict()\n",
    "\n",
    "def extract_scholars(row):\n",
    "\thadith_id = row['hadith_no']\n",
    "\tchain = row['chain_indx']\n",
    "\n",
    "\t# seperate on commas and remove empty strings\n",
    "\tscholars = [s.strip() for s in chain.split(',') if s.strip() != '']\n",
    "\t# as int\n",
    "\tscholars = [int(s) for s in scholars]\n",
    "\thadith_id_to_scholar_array[hadith_id] = scholars\n",
    "\n",
    "hadiths.apply(extract_scholars, axis=1)"
   ]
  },
  {
   "cell_type": "code",
   "execution_count": 22,
   "metadata": {},
   "outputs": [],
   "source": [
    "def find_gaps():\n",
    "\tgap_tuples = []\n",
    "\tfor key in hadith_id_to_scholar_array:\n",
    "\t\tfor index in range(len(hadith_id_to_scholar_array[key])):\n",
    "\t\t\n",
    "\t\t\tscholar_indx = hadith_id_to_scholar_array[key][index]\n",
    "\t\t\t# find in rawis\n",
    "\t\t\tgap = rawis[rawis['scholar_indx'] == scholar_indx].shape[0] < 1\n",
    "\t\t\tif gap:\n",
    "\t\t\t\tgap_tuples.append((key, scholar_indx))\n",
    "\n",
    "\treturn gap_tuples"
   ]
  },
  {
   "cell_type": "code",
   "execution_count": 23,
   "metadata": {},
   "outputs": [],
   "source": [
    "gap_tuples = find_gaps()\n",
    "missing_narrator_ids = set([t[1] for t in gap_tuples])\n",
    "hadiths_with_missing_narrators = set([t[0] for t in gap_tuples])"
   ]
  },
  {
   "cell_type": "code",
   "execution_count": 24,
   "metadata": {},
   "outputs": [
    {
     "data": {
      "text/plain": [
       "(103, 1894)"
      ]
     },
     "execution_count": 24,
     "metadata": {},
     "output_type": "execute_result"
    }
   ],
   "source": [
    "len(missing_narrator_ids), len(hadiths_with_missing_narrators)"
   ]
  },
  {
   "cell_type": "code",
   "execution_count": 25,
   "metadata": {},
   "outputs": [],
   "source": [
    "# drop hadiths with missing narrators\n",
    "hadiths = hadiths[~hadiths.hadith_no.isin(hadiths_with_missing_narrators)]"
   ]
  },
  {
   "cell_type": "code",
   "execution_count": 26,
   "metadata": {},
   "outputs": [
    {
     "name": "stdout",
     "output_type": "stream",
     "text": [
      "<class 'pandas.core.frame.DataFrame'>\n",
      "Index: 30904 entries, 0 to 34440\n",
      "Data columns (total 8 columns):\n",
      " #   Column      Non-Null Count  Dtype \n",
      "---  ------      --------------  ----- \n",
      " 0   id          30904 non-null  int64 \n",
      " 1   hadith_no   30904 non-null  int64 \n",
      " 2   source      30904 non-null  object\n",
      " 3   chapter_no  30904 non-null  int64 \n",
      " 4   chapter     30904 non-null  object\n",
      " 5   chain_indx  30904 non-null  object\n",
      " 6   text_ar     30904 non-null  object\n",
      " 7   text_en     30904 non-null  object\n",
      "dtypes: int64(3), object(5)\n",
      "memory usage: 2.1+ MB\n"
     ]
    }
   ],
   "source": [
    "hadiths.info()\n",
    "hadiths.to_csv('raw/complete_hadiths.csv', index=False)"
   ]
  },
  {
   "cell_type": "markdown",
   "metadata": {},
   "source": [
    "### Rename Columns"
   ]
  },
  {
   "cell_type": "code",
   "execution_count": null,
   "metadata": {},
   "outputs": [],
   "source": []
  },
  {
   "cell_type": "code",
   "execution_count": 27,
   "metadata": {},
   "outputs": [
    {
     "name": "stderr",
     "output_type": "stream",
     "text": [
      "C:\\Users\\hm248\\AppData\\Local\\Temp\\ipykernel_4480\\1018853764.py:1: SettingWithCopyWarning: \n",
      "A value is trying to be set on a copy of a slice from a DataFrame\n",
      "\n",
      "See the caveats in the documentation: https://pandas.pydata.org/pandas-docs/stable/user_guide/indexing.html#returning-a-view-versus-a-copy\n",
      "  hadiths.rename(columns={\n"
     ]
    }
   ],
   "source": [
    "hadiths.rename(columns={\n",
    "\t'source': 'book',\n",
    "\t'chain_indx': 'chain',\n",
    "}, inplace=True)"
   ]
  },
  {
   "cell_type": "code",
   "execution_count": 28,
   "metadata": {},
   "outputs": [
    {
     "name": "stdout",
     "output_type": "stream",
     "text": [
      "<class 'pandas.core.frame.DataFrame'>\n",
      "Index: 30904 entries, 0 to 34440\n",
      "Data columns (total 8 columns):\n",
      " #   Column      Non-Null Count  Dtype \n",
      "---  ------      --------------  ----- \n",
      " 0   id          30904 non-null  int64 \n",
      " 1   hadith_no   30904 non-null  int64 \n",
      " 2   book        30904 non-null  object\n",
      " 3   chapter_no  30904 non-null  int64 \n",
      " 4   chapter     30904 non-null  object\n",
      " 5   chain       30904 non-null  object\n",
      " 6   text_ar     30904 non-null  object\n",
      " 7   text_en     30904 non-null  object\n",
      "dtypes: int64(3), object(5)\n",
      "memory usage: 2.1+ MB\n"
     ]
    }
   ],
   "source": [
    "hadiths.info()"
   ]
  },
  {
   "cell_type": "markdown",
   "metadata": {},
   "source": [
    "#### Save"
   ]
  },
  {
   "cell_type": "code",
   "execution_count": 29,
   "metadata": {},
   "outputs": [],
   "source": [
    "hadiths.to_csv('raw/complete_hadiths.csv', index=False)"
   ]
  },
  {
   "cell_type": "markdown",
   "metadata": {},
   "source": [
    "## Narrators Cleanup"
   ]
  },
  {
   "cell_type": "code",
   "execution_count": 30,
   "metadata": {},
   "outputs": [
    {
     "name": "stdout",
     "output_type": "stream",
     "text": [
      "<class 'pandas.core.frame.DataFrame'>\n",
      "RangeIndex: 24326 entries, 0 to 24325\n",
      "Data columns (total 25 columns):\n",
      " #   Column                Non-Null Count  Dtype  \n",
      "---  ------                --------------  -----  \n",
      " 0   scholar_indx          24326 non-null  int64  \n",
      " 1   name                  24326 non-null  object \n",
      " 2   grade                 24326 non-null  object \n",
      " 3   parents               3012 non-null   object \n",
      " 4   spouse                1010 non-null   object \n",
      " 5   siblings              2068 non-null   object \n",
      " 6   children              1583 non-null   object \n",
      " 7   birth_date_place      7555 non-null   object \n",
      " 8   places_of_stay        16728 non-null  object \n",
      " 9   death_date_place      24320 non-null  object \n",
      " 10  teachers              13436 non-null  object \n",
      " 11  students              6499 non-null   object \n",
      " 12  area_of_interest      24272 non-null  object \n",
      " 13  tags                  15666 non-null  object \n",
      " 14  books                 6 non-null      object \n",
      " 15  students_inds         6124 non-null   object \n",
      " 16  teachers_inds         13104 non-null  object \n",
      " 17  birth_place           7364 non-null   object \n",
      " 18  birth_date            7555 non-null   object \n",
      " 19  birth_date_hijri      386 non-null    float64\n",
      " 20  birth_date_gregorian  106 non-null    float64\n",
      " 21  death_date_hijri      3951 non-null   float64\n",
      " 22  death_date_gregorian  554 non-null    float64\n",
      " 23  death_place           2675 non-null   object \n",
      " 24  death_reason          24188 non-null  object \n",
      "dtypes: float64(4), int64(1), object(20)\n",
      "memory usage: 4.6+ MB\n"
     ]
    }
   ],
   "source": [
    "rawis.info()"
   ]
  },
  {
   "cell_type": "code",
   "execution_count": 31,
   "metadata": {},
   "outputs": [],
   "source": [
    "rawi_columns = [\n",
    "\t\"scholar_indx\",\n",
    "\t\"name\",\n",
    "\t\"grade\",\n",
    "\t\"death_reason\",\n",
    "\t\"places_of_stay\"\n",
    "]"
   ]
  },
  {
   "cell_type": "code",
   "execution_count": 32,
   "metadata": {},
   "outputs": [],
   "source": [
    "rawis = rawis[rawi_columns]"
   ]
  },
  {
   "cell_type": "code",
   "execution_count": 33,
   "metadata": {},
   "outputs": [
    {
     "name": "stdout",
     "output_type": "stream",
     "text": [
      "<class 'pandas.core.frame.DataFrame'>\n",
      "RangeIndex: 24326 entries, 0 to 24325\n",
      "Data columns (total 5 columns):\n",
      " #   Column          Non-Null Count  Dtype \n",
      "---  ------          --------------  ----- \n",
      " 0   scholar_indx    24326 non-null  int64 \n",
      " 1   name            24326 non-null  object\n",
      " 2   grade           24326 non-null  object\n",
      " 3   death_reason    24188 non-null  object\n",
      " 4   places_of_stay  16728 non-null  object\n",
      "dtypes: int64(1), object(4)\n",
      "memory usage: 950.4+ KB\n"
     ]
    }
   ],
   "source": [
    "rawis.info()"
   ]
  },
  {
   "cell_type": "code",
   "execution_count": 34,
   "metadata": {},
   "outputs": [],
   "source": [
    "rawis.rename(columns={\n",
    "\t'scholar_indx': 'narrator_id'\n",
    "}, inplace=True)"
   ]
  },
  {
   "cell_type": "markdown",
   "metadata": {},
   "source": [
    "#### Save"
   ]
  },
  {
   "cell_type": "code",
   "execution_count": 35,
   "metadata": {},
   "outputs": [],
   "source": [
    "rawis.to_csv('raw/complete_narrators.csv')"
   ]
  },
  {
   "cell_type": "markdown",
   "metadata": {},
   "source": [
    "### String Formatting - Hadith"
   ]
  },
  {
   "cell_type": "code",
   "execution_count": 36,
   "metadata": {},
   "outputs": [],
   "source": [
    "\n",
    "narrators = pd.read_csv(\"raw/complete_narrators.csv\")\n",
    "hadiths = pd.read_csv(\"raw/complete_hadiths.csv\")\n",
    "hadiths.dropna(inplace=True)"
   ]
  },
  {
   "cell_type": "code",
   "execution_count": 37,
   "metadata": {},
   "outputs": [],
   "source": [
    "hadiths[\"book\"] = hadiths[\"book\"].str.strip()"
   ]
  },
  {
   "cell_type": "markdown",
   "metadata": {},
   "source": [
    "#### Sampling"
   ]
  },
  {
   "cell_type": "code",
   "execution_count": null,
   "metadata": {},
   "outputs": [],
   "source": [
    "first_few = hadiths.iloc[20000:].head(15).text_en.values\n",
    "with open('first_few.txt', 'w', encoding='utf-8') as f:\n",
    "\tfor text in first_few:\n",
    "\t\tf.write(text + '\\n')"
   ]
  },
  {
   "cell_type": "markdown",
   "metadata": {},
   "source": [
    "#### clean chapters"
   ]
  },
  {
   "cell_type": "code",
   "execution_count": 38,
   "metadata": {},
   "outputs": [],
   "source": [
    "# split each string on last occurence of hyphen\n",
    "hadiths['chapter_en'] = hadiths['chapter'].str.rsplit('-', n=1, expand=True)[0].str.strip()\n",
    "hadiths['chapter_ar'] = hadiths['chapter'].str.rsplit('-', n=1, expand=True)[1].str.strip()\n",
    "hadiths.drop('chapter', axis=1, inplace=True)"
   ]
  },
  {
   "cell_type": "markdown",
   "metadata": {},
   "source": [
    "#### clean texts"
   ]
  },
  {
   "cell_type": "code",
   "execution_count": 41,
   "metadata": {},
   "outputs": [],
   "source": [
    "# make sure spaces only appear one time to avoid large gaps\n",
    "\n",
    "for _ in range(20):\n",
    "\thadiths['text_en'] = hadiths['text_en'].str.replace('  ', ' ') \n",
    "\thadiths['text_ar'] = hadiths['text_ar'].str.replace('  ', ' ')"
   ]
  },
  {
   "cell_type": "code",
   "execution_count": 42,
   "metadata": {},
   "outputs": [],
   "source": [
    "def format_arabic_text(text):\n",
    "\ttext = text.replace('\\u200f', '')\n",
    "\ttext = text.replace('\\u200e', '')\n",
    "\ttext = text.replace('\\n', '')\n",
    "\ttext = text.replace(' .', '.')\n",
    "\ttext = text.strip()\n",
    "\treturn text"
   ]
  },
  {
   "cell_type": "code",
   "execution_count": 43,
   "metadata": {},
   "outputs": [],
   "source": [
    "hadiths[\"text_ar\"] = hadiths.text_ar.apply(format_arabic_text)\n",
    "hadiths[\"text_en\"] = hadiths.text_en.str.strip()\n",
    "hadiths[\"text_en\"] = hadiths.text_en.str.replace('\\n', '')"
   ]
  },
  {
   "cell_type": "code",
   "execution_count": 44,
   "metadata": {},
   "outputs": [
    {
     "name": "stdout",
     "output_type": "stream",
     "text": [
      "<class 'pandas.core.frame.DataFrame'>\n",
      "RangeIndex: 30904 entries, 0 to 30903\n",
      "Data columns (total 9 columns):\n",
      " #   Column      Non-Null Count  Dtype \n",
      "---  ------      --------------  ----- \n",
      " 0   id          30904 non-null  int64 \n",
      " 1   hadith_no   30904 non-null  int64 \n",
      " 2   book        30904 non-null  object\n",
      " 3   chapter_no  30904 non-null  int64 \n",
      " 4   chain       30904 non-null  object\n",
      " 5   text_ar     30904 non-null  object\n",
      " 6   text_en     30904 non-null  object\n",
      " 7   chapter_en  30904 non-null  object\n",
      " 8   chapter_ar  30904 non-null  object\n",
      "dtypes: int64(3), object(6)\n",
      "memory usage: 2.1+ MB\n"
     ]
    }
   ],
   "source": [
    "hadiths.info()"
   ]
  },
  {
   "cell_type": "markdown",
   "metadata": {},
   "source": [
    "### String Formatting - narrators"
   ]
  },
  {
   "cell_type": "code",
   "execution_count": 47,
   "metadata": {},
   "outputs": [],
   "source": [
    "narrators = pd.read_csv(\"raw/complete_narrators.csv\").drop(\"Unnamed: 0\", axis=1)"
   ]
  },
  {
   "cell_type": "code",
   "execution_count": 48,
   "metadata": {},
   "outputs": [
    {
     "name": "stdout",
     "output_type": "stream",
     "text": [
      "<class 'pandas.core.frame.DataFrame'>\n",
      "RangeIndex: 24326 entries, 0 to 24325\n",
      "Data columns (total 5 columns):\n",
      " #   Column          Non-Null Count  Dtype \n",
      "---  ------          --------------  ----- \n",
      " 0   narrator_id     24326 non-null  int64 \n",
      " 1   name            24326 non-null  object\n",
      " 2   grade           24326 non-null  object\n",
      " 3   death_reason    24188 non-null  object\n",
      " 4   places_of_stay  16728 non-null  object\n",
      "dtypes: int64(1), object(4)\n",
      "memory usage: 950.4+ KB\n"
     ]
    }
   ],
   "source": [
    "narrators.info()"
   ]
  },
  {
   "cell_type": "code",
   "execution_count": 49,
   "metadata": {},
   "outputs": [],
   "source": [
    "def format_name(text):\n",
    "\ttext = text.replace('\\u200f', '')\n",
    "\ttext = text.replace('\\u200e', '')\n",
    "\ttext = text.replace('\\n', '')\n",
    "\ttext = text.replace(' .', '.')\n",
    "\n",
    "\ttext = text.replace('رضي الله عنها', '')\n",
    "\ttext = text.replace('رضي الله عنه', '')\n",
    "\ttext = text.replace('(', '')\n",
    "\ttext = text.replace(')', '')\n",
    "\ttext = text.strip()\n",
    "\t\n",
    "\treturn text"
   ]
  },
  {
   "cell_type": "code",
   "execution_count": 50,
   "metadata": {},
   "outputs": [],
   "source": [
    "def split_row_on_name(row):\n",
    "\t# split name on start of arabic chars into 2 columns\n",
    "\tname = row['name']\n",
    "\t# find an arabic char\n",
    "\ti = 0\n",
    "\tfor char in name:\n",
    "\t\tif ord(char) > 1500:\n",
    "\t\t\tbreak\n",
    "\t\t\n",
    "\t\ti += 1\n",
    "\n",
    "\trow['name_en'] = name[:i].strip()\n",
    "\trow['name_ar'] = name[i:].strip()\n",
    "\treturn row"
   ]
  },
  {
   "cell_type": "code",
   "execution_count": 51,
   "metadata": {},
   "outputs": [],
   "source": [
    "narrators.name = narrators.name.apply(format_name)"
   ]
  },
  {
   "cell_type": "code",
   "execution_count": 52,
   "metadata": {},
   "outputs": [],
   "source": [
    "narrators = narrators.apply(split_row_on_name, axis=1)\n",
    "narrators.drop('name', axis=1, inplace=True)"
   ]
  },
  {
   "cell_type": "code",
   "execution_count": null,
   "metadata": {},
   "outputs": [],
   "source": [
    "first_few = narrators.iloc[2360:].head(15).places_of_stay.values\n",
    "with open('first_few.txt', 'w', encoding=\"utf-8\") as f:\n",
    "\tfor text in first_few:\n",
    "\t\tf.write(text.replace('\\u200f', '') + '\\n')"
   ]
  },
  {
   "cell_type": "code",
   "execution_count": 54,
   "metadata": {},
   "outputs": [],
   "source": [
    "def format_grade(text):\n",
    "\ttext = text.replace('\\u200f', '')\n",
    "\ttext = text.replace('\\u200e', '')\n",
    "\ttext = text.replace('\\n', '')\n",
    "\ttext = text.replace(' .', '.')\n",
    "\n",
    "\ttext = text.replace(\"Comp.\", 'Companion ')\n",
    "\ttext = text.replace(\"Follower\", 'Follower ')\n",
    "\ttext = text.replace(\"Succ.\", 'Successor')\n",
    "\ttext = text.strip()\n",
    "\treturn text"
   ]
  },
  {
   "cell_type": "code",
   "execution_count": 55,
   "metadata": {},
   "outputs": [],
   "source": [
    "narrators[\"grade\"] = narrators.grade.apply(format_grade)"
   ]
  },
  {
   "cell_type": "code",
   "execution_count": 56,
   "metadata": {},
   "outputs": [
    {
     "data": {
      "text/plain": [
       "death_reason\n",
       "Natural     23876\n",
       "Martyred      312\n",
       "Name: count, dtype: int64"
      ]
     },
     "execution_count": 56,
     "metadata": {},
     "output_type": "execute_result"
    }
   ],
   "source": [
    "narrators.death_reason.value_counts()"
   ]
  },
  {
   "cell_type": "code",
   "execution_count": 57,
   "metadata": {},
   "outputs": [
    {
     "name": "stdout",
     "output_type": "stream",
     "text": [
      "<class 'pandas.core.frame.DataFrame'>\n",
      "RangeIndex: 24326 entries, 0 to 24325\n",
      "Data columns (total 6 columns):\n",
      " #   Column          Non-Null Count  Dtype \n",
      "---  ------          --------------  ----- \n",
      " 0   narrator_id     24326 non-null  int64 \n",
      " 1   grade           24326 non-null  object\n",
      " 2   death_reason    24188 non-null  object\n",
      " 3   places_of_stay  16728 non-null  object\n",
      " 4   name_en         24326 non-null  object\n",
      " 5   name_ar         24326 non-null  object\n",
      "dtypes: int64(1), object(5)\n",
      "memory usage: 1.1+ MB\n"
     ]
    }
   ],
   "source": [
    "narrators.info()"
   ]
  },
  {
   "cell_type": "code",
   "execution_count": 59,
   "metadata": {},
   "outputs": [],
   "source": [
    "hadiths.to_csv('complete_hadiths_clean.csv', index=False)\n",
    "narrators.to_csv('complete_narrators_clean.csv', index=False)"
   ]
  },
  {
   "cell_type": "code",
   "execution_count": 1,
   "metadata": {},
   "outputs": [],
   "source": [
    "import pandas as pd\n",
    "hadiths = pd.read_csv('hadiths_clean.csv')"
   ]
  }
 ],
 "metadata": {
  "kernelspec": {
   "display_name": "Python 3",
   "language": "python",
   "name": "python3"
  },
  "language_info": {
   "codemirror_mode": {
    "name": "ipython",
    "version": 3
   },
   "file_extension": ".py",
   "mimetype": "text/x-python",
   "name": "python",
   "nbconvert_exporter": "python",
   "pygments_lexer": "ipython3",
   "version": "3.11.4"
  }
 },
 "nbformat": 4,
 "nbformat_minor": 2
}
