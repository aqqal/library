{
 "cells": [
  {
   "cell_type": "code",
   "execution_count": null,
   "metadata": {},
   "outputs": [],
   "source": [
    "import pandas as pd\n",
    "\n",
    "hadiths = pd.read_csv('raw/kaggle_hadiths_clean.csv')\n",
    "rawis = pd.read_csv('raw/kaggle_rawis.csv')"
   ]
  },
  {
   "cell_type": "code",
   "execution_count": null,
   "metadata": {},
   "outputs": [],
   "source": [
    "hadiths.head()"
   ]
  },
  {
   "cell_type": "code",
   "execution_count": null,
   "metadata": {},
   "outputs": [],
   "source": [
    "rawis.head()"
   ]
  },
  {
   "cell_type": "markdown",
   "metadata": {},
   "source": [
    "## Hadiths Cleanup"
   ]
  },
  {
   "cell_type": "code",
   "execution_count": null,
   "metadata": {},
   "outputs": [],
   "source": [
    "hadiths.info()"
   ]
  },
  {
   "cell_type": "code",
   "execution_count": null,
   "metadata": {},
   "outputs": [],
   "source": [
    "hadiths.dropna(inplace=True)"
   ]
  },
  {
   "cell_type": "code",
   "execution_count": null,
   "metadata": {},
   "outputs": [],
   "source": [
    "hadiths.info()"
   ]
  },
  {
   "cell_type": "markdown",
   "metadata": {},
   "source": [
    "### Drop Duplicates"
   ]
  },
  {
   "cell_type": "code",
   "execution_count": null,
   "metadata": {},
   "outputs": [],
   "source": [
    "ids_with_duplicates = hadiths.hadith_id.value_counts()[hadiths.hadith_id.value_counts() > 1].index"
   ]
  },
  {
   "cell_type": "code",
   "execution_count": null,
   "metadata": {},
   "outputs": [],
   "source": [
    "hadiths.drop_duplicates(subset='hadith_id', inplace=True)\n",
    "# Keep first occurence\n",
    "hadiths[hadiths.hadith_id.isin(ids_with_duplicates)].shape[0] == len(ids_with_duplicates)\n"
   ]
  },
  {
   "cell_type": "code",
   "execution_count": null,
   "metadata": {},
   "outputs": [],
   "source": [
    "hadiths.hadith_id.value_counts().sort_values(ascending=False)"
   ]
  },
  {
   "cell_type": "code",
   "execution_count": null,
   "metadata": {},
   "outputs": [],
   "source": [
    "hadiths.count()"
   ]
  },
  {
   "cell_type": "markdown",
   "metadata": {},
   "source": [
    "### Missing Sanad Data"
   ]
  },
  {
   "cell_type": "code",
   "execution_count": null,
   "metadata": {},
   "outputs": [],
   "source": [
    "hadith_id_to_scholar_array = dict()\n",
    "\n",
    "def extract_scholars(row):\n",
    "\thadith_id = row['hadith_id']\n",
    "\tchain = row['chain_indx']\n",
    "\n",
    "\t# seperate on commas and remove empty strings\n",
    "\tscholars = [s.strip() for s in chain.split(',') if s.strip() != '']\n",
    "\t# as int\n",
    "\tscholars = [int(s) for s in scholars]\n",
    "\thadith_id_to_scholar_array[hadith_id] = scholars\n",
    "\n",
    "hadiths.apply(extract_scholars, axis=1)"
   ]
  },
  {
   "cell_type": "code",
   "execution_count": null,
   "metadata": {},
   "outputs": [],
   "source": [
    "def find_gaps():\n",
    "\tfor key in hadith_id_to_scholar_array:\n",
    "\t\tfor index in range(len(hadith_id_to_scholar_array[key])):\n",
    "\t\t\n",
    "\t\t\tscholar_indx = hadith_id_to_scholar_array[key][index]\n",
    "\t\t\t# find in rawis\n",
    "\t\t\tgap = rawis[rawis['scholar_indx'] == scholar_indx].shape[0] < 1\n",
    "\t\t\tif gap:\n",
    "\t\t\t\tgap_tuples.append((key, scholar_indx))\n",
    "\n",
    "\treturn gap_tuples"
   ]
  },
  {
   "cell_type": "code",
   "execution_count": null,
   "metadata": {},
   "outputs": [],
   "source": [
    "gap_tuples = find_gaps()\n",
    "missing_narrator_ids = set([t[1] for t in gap_tuples])\n",
    "hadiths_with_missing_narrators = set([t[0] for t in gap_tuples])"
   ]
  },
  {
   "cell_type": "code",
   "execution_count": null,
   "metadata": {},
   "outputs": [],
   "source": [
    "len(missing_narrator_ids), len(hadiths_with_missing_narrators)"
   ]
  },
  {
   "cell_type": "code",
   "execution_count": null,
   "metadata": {},
   "outputs": [],
   "source": [
    "# drop hadiths with missing narrators\n",
    "hadiths = hadiths[~hadiths.hadith_id.isin(hadiths_with_missing_narrators)]"
   ]
  },
  {
   "cell_type": "code",
   "execution_count": null,
   "metadata": {},
   "outputs": [],
   "source": [
    "hadiths.info()\n",
    "hadiths.to_csv('raw/complete_hadiths.csv', index=False)"
   ]
  },
  {
   "cell_type": "markdown",
   "metadata": {},
   "source": [
    "### Rename Columns"
   ]
  },
  {
   "cell_type": "code",
   "execution_count": null,
   "metadata": {},
   "outputs": [],
   "source": [
    "hadiths.drop('hadith_no', axis=1, inplace=True)"
   ]
  },
  {
   "cell_type": "code",
   "execution_count": null,
   "metadata": {},
   "outputs": [],
   "source": [
    "hadiths.rename(columns={\n",
    "\t'hadith_id': 'hadith_no',\n",
    "\t'source': 'book',\n",
    "\t'chain_indx': 'chain',\n",
    "}, inplace=True)"
   ]
  },
  {
   "cell_type": "code",
   "execution_count": null,
   "metadata": {},
   "outputs": [],
   "source": [
    "hadiths.info()"
   ]
  },
  {
   "cell_type": "markdown",
   "metadata": {},
   "source": [
    "#### Save"
   ]
  },
  {
   "cell_type": "code",
   "execution_count": null,
   "metadata": {},
   "outputs": [],
   "source": [
    "# hadiths.to_csv('raw/complete_hadiths.csv', index=False)"
   ]
  },
  {
   "cell_type": "markdown",
   "metadata": {},
   "source": [
    "## Narrators Cleanup"
   ]
  },
  {
   "cell_type": "code",
   "execution_count": null,
   "metadata": {},
   "outputs": [],
   "source": [
    "rawis.info()"
   ]
  },
  {
   "cell_type": "code",
   "execution_count": null,
   "metadata": {},
   "outputs": [],
   "source": [
    "rawi_columns = [\n",
    "\t\"scholar_indx\",\n",
    "\t\"name\",\n",
    "\t\"grade\",\n",
    "\t\"death_date_place\",\n",
    "\t\"area_of_interest\",\n",
    "\t\"death_reason\",\n",
    "\t\"places_of_stay\"\n",
    "]"
   ]
  },
  {
   "cell_type": "code",
   "execution_count": null,
   "metadata": {},
   "outputs": [],
   "source": [
    "rawis = rawis[rawi_columns]"
   ]
  },
  {
   "cell_type": "code",
   "execution_count": null,
   "metadata": {},
   "outputs": [],
   "source": [
    "rawis.info()"
   ]
  },
  {
   "cell_type": "code",
   "execution_count": null,
   "metadata": {},
   "outputs": [],
   "source": [
    "rawis.rename(columns={\n",
    "\t'scholar_indx': 'narrator_id'\n",
    "}, inplace=True)"
   ]
  },
  {
   "cell_type": "markdown",
   "metadata": {},
   "source": [
    "#### Save"
   ]
  },
  {
   "cell_type": "code",
   "execution_count": null,
   "metadata": {},
   "outputs": [],
   "source": [
    "rawis.to_csv('raw/complete_narrators.csv')"
   ]
  },
  {
   "cell_type": "markdown",
   "metadata": {},
   "source": [
    "### String Formatting - Hadith"
   ]
  },
  {
   "cell_type": "code",
   "execution_count": null,
   "metadata": {},
   "outputs": [],
   "source": [
    "\n",
    "narrators = pd.read_csv(\"raw/complete_narrators.csv\")\n",
    "hadiths = pd.read_csv(\"raw/complete_hadiths.csv\")\n",
    "hadiths.dropna(inplace=True)"
   ]
  },
  {
   "cell_type": "code",
   "execution_count": null,
   "metadata": {},
   "outputs": [],
   "source": [
    "hadiths[\"book\"] = hadiths[\"book\"].str.strip()"
   ]
  },
  {
   "cell_type": "markdown",
   "metadata": {},
   "source": [
    "#### Sampling"
   ]
  },
  {
   "cell_type": "code",
   "execution_count": null,
   "metadata": {},
   "outputs": [],
   "source": [
    "first_few = hadiths.iloc[20000:].head(15).text_en.values\n",
    "with open('first_few.txt', 'w', encoding='utf-8') as f:\n",
    "\tfor text in first_few:\n",
    "\t\tf.write(text + '\\n')"
   ]
  },
  {
   "cell_type": "markdown",
   "metadata": {},
   "source": [
    "#### clean chapters"
   ]
  },
  {
   "cell_type": "code",
   "execution_count": null,
   "metadata": {},
   "outputs": [],
   "source": [
    "# split each string on last occurence of hyphen\n",
    "hadiths['chapter_en'] = hadiths['chapter'].str.rsplit('-', n=1, expand=True)[0].str.strip()\n",
    "hadiths['chapter_ar'] = hadiths['chapter'].str.rsplit('-', n=1, expand=True)[1].str.strip()\n",
    "hadiths.drop('chapter', axis=1, inplace=True)"
   ]
  },
  {
   "cell_type": "markdown",
   "metadata": {},
   "source": [
    "#### clean texts"
   ]
  },
  {
   "cell_type": "code",
   "execution_count": null,
   "metadata": {},
   "outputs": [],
   "source": [
    "# make sure spaces only appear one time to avoid large gaps\n",
    "\n",
    "for _ in range(20):\n",
    "\thadiths['text_en'] = hadiths['text_en'].str.replace('  ', ' ') \n",
    "\thadiths['text_ar'] = hadiths['text_ar'].str.replace('  ', ' ')"
   ]
  },
  {
   "cell_type": "code",
   "execution_count": null,
   "metadata": {},
   "outputs": [],
   "source": [
    "def format_arabic_text(text):\n",
    "\ttext = text.replace('\\u200f', '')\n",
    "\ttext = text.replace('\\u200e', '')\n",
    "\ttext = text.replace('\\n', '')\n",
    "\ttext = text.replace(' .', '.')\n",
    "\ttext = text.strip()\n",
    "\treturn text"
   ]
  },
  {
   "cell_type": "code",
   "execution_count": null,
   "metadata": {},
   "outputs": [],
   "source": [
    "hadiths[\"text_ar\"] = hadiths.text_ar.apply(format_arabic_text)\n",
    "hadiths[\"text_en\"] = hadiths.text_en.str.strip()\n",
    "hadiths[\"text_en\"] = hadiths.text_en.str.replace('\\n', '')"
   ]
  },
  {
   "cell_type": "code",
   "execution_count": null,
   "metadata": {},
   "outputs": [],
   "source": [
    "hadiths.info()"
   ]
  },
  {
   "cell_type": "markdown",
   "metadata": {},
   "source": [
    "### String Formatting - narrators"
   ]
  },
  {
   "cell_type": "code",
   "execution_count": 252,
   "metadata": {},
   "outputs": [],
   "source": [
    "narrators = pd.read_csv(\"raw/complete_narrators.csv\")"
   ]
  },
  {
   "cell_type": "code",
   "execution_count": 253,
   "metadata": {},
   "outputs": [
    {
     "name": "stdout",
     "output_type": "stream",
     "text": [
      "<class 'pandas.core.frame.DataFrame'>\n",
      "RangeIndex: 24326 entries, 0 to 24325\n",
      "Data columns (total 8 columns):\n",
      " #   Column            Non-Null Count  Dtype \n",
      "---  ------            --------------  ----- \n",
      " 0   Unnamed: 0        24326 non-null  int64 \n",
      " 1   narrator_id       24326 non-null  int64 \n",
      " 2   name              24326 non-null  object\n",
      " 3   grade             24326 non-null  object\n",
      " 4   death_date_place  24320 non-null  object\n",
      " 5   area_of_interest  24272 non-null  object\n",
      " 6   death_reason      24188 non-null  object\n",
      " 7   places_of_stay    16728 non-null  object\n",
      "dtypes: int64(2), object(6)\n",
      "memory usage: 1.5+ MB\n"
     ]
    }
   ],
   "source": [
    "narrators.info()"
   ]
  },
  {
   "cell_type": "code",
   "execution_count": 254,
   "metadata": {},
   "outputs": [],
   "source": [
    "def format_name(text):\n",
    "\ttext = text.replace('\\u200f', '')\n",
    "\ttext = text.replace('\\u200e', '')\n",
    "\ttext = text.replace('\\n', '')\n",
    "\ttext = text.replace(' .', '.')\n",
    "\n",
    "\ttext = text.replace('رضي الله عنها', '')\n",
    "\ttext = text.replace('رضي الله عنه', '')\n",
    "\ttext = text.replace('(', '')\n",
    "\ttext = text.replace(')', '')\n",
    "\n",
    "\ttext = text.strip()\n",
    "\t\n",
    "\treturn text"
   ]
  },
  {
   "cell_type": "code",
   "execution_count": 255,
   "metadata": {},
   "outputs": [],
   "source": [
    "def split_row_on_name(row):\n",
    "\t# split name on start of arabic chars into 2 columns\n",
    "\tname = row['name']\n",
    "\t# find an arabic char\n",
    "\ti = 0\n",
    "\tfor char in name:\n",
    "\t\tif ord(char) > 1500:\n",
    "\t\t\tbreak\n",
    "\t\t\n",
    "\t\ti += 1\n",
    "\n",
    "\trow['name_en'] = name[:i].strip()\n",
    "\trow['name_ar'] = name[i:].strip()\n",
    "\treturn row"
   ]
  },
  {
   "cell_type": "code",
   "execution_count": 256,
   "metadata": {},
   "outputs": [],
   "source": [
    "narrators.name = narrators.name.apply(format_name)"
   ]
  },
  {
   "cell_type": "code",
   "execution_count": 257,
   "metadata": {},
   "outputs": [],
   "source": [
    "narrators = narrators.apply(split_row_on_name, axis=1)\n",
    "narrators.drop('name', axis=1, inplace=True)"
   ]
  },
  {
   "cell_type": "code",
   "execution_count": null,
   "metadata": {},
   "outputs": [],
   "source": [
    "first_few = narrators.iloc[2360:].head(15).places_of_stay.values\n",
    "with open('first_few.txt', 'w', encoding=\"utf-8\") as f:\n",
    "\tfor text in first_few:\n",
    "\t\tf.write(text.replace('\\u200f', '') + '\\n')"
   ]
  },
  {
   "cell_type": "code",
   "execution_count": 258,
   "metadata": {},
   "outputs": [],
   "source": [
    "def format_grade(text):\n",
    "\ttext = text.replace('\\u200f', '')\n",
    "\ttext = text.replace('\\u200e', '')\n",
    "\ttext = text.replace('\\n', '')\n",
    "\ttext = text.replace(' .', '.')\n",
    "\n",
    "\ttext = text.replace(\"Comp.\", 'Companion ')\n",
    "\ttext = text.replace(\"Follower\", 'Follower ')\n",
    "\ttext = text.replace(\"Succ.\", 'Successor')\n",
    "\treturn text"
   ]
  },
  {
   "cell_type": "code",
   "execution_count": 259,
   "metadata": {},
   "outputs": [],
   "source": [
    "narrators[\"grade\"] = narrators.grade.apply(format_grade)"
   ]
  },
  {
   "cell_type": "code",
   "execution_count": null,
   "metadata": {},
   "outputs": [],
   "source": [
    "narrators.death_reason.value_counts()"
   ]
  },
  {
   "cell_type": "code",
   "execution_count": 260,
   "metadata": {},
   "outputs": [],
   "source": [
    "narrators.drop('death_date_place', axis=1, inplace=True)\n",
    "narrators.drop('area_of_interest', axis=1, inplace=True)"
   ]
  },
  {
   "cell_type": "code",
   "execution_count": 261,
   "metadata": {},
   "outputs": [],
   "source": [
    "if 'Unnamed: 0' in narrators.columns:\n",
    "\tnarrators.drop('Unnamed: 0', axis=1, inplace=True)"
   ]
  },
  {
   "cell_type": "code",
   "execution_count": null,
   "metadata": {},
   "outputs": [],
   "source": [
    "narrators.info()"
   ]
  },
  {
   "cell_type": "code",
   "execution_count": 262,
   "metadata": {},
   "outputs": [],
   "source": [
    "hadiths.to_csv('hadiths_clean.csv', index=False)\n",
    "narrators.to_csv('narrators_clean.csv', index=False)"
   ]
  }
 ],
 "metadata": {
  "kernelspec": {
   "display_name": "Python 3",
   "language": "python",
   "name": "python3"
  },
  "language_info": {
   "codemirror_mode": {
    "name": "ipython",
    "version": 3
   },
   "file_extension": ".py",
   "mimetype": "text/x-python",
   "name": "python",
   "nbconvert_exporter": "python",
   "pygments_lexer": "ipython3",
   "version": "3.11.4"
  }
 },
 "nbformat": 4,
 "nbformat_minor": 2
}
