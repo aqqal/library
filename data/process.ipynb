{
 "cells": [
  {
   "cell_type": "code",
   "execution_count": 1,
   "metadata": {},
   "outputs": [],
   "source": [
    "import pandas as pd\n",
    "\n",
    "hadiths = pd.read_csv('kaggle_hadiths_clean.csv')\n",
    "rawis = pd.read_csv('kaggle_rawis.csv')\n",
    "# rawi_data = pd.read_csv('rawi_data.csv')"
   ]
  },
  {
   "cell_type": "code",
   "execution_count": 13,
   "metadata": {},
   "outputs": [
    {
     "name": "stdout",
     "output_type": "stream",
     "text": [
      "<class 'pandas.core.frame.DataFrame'>\n",
      "RangeIndex: 34441 entries, 0 to 34440\n",
      "Data columns (total 9 columns):\n",
      " #   Column      Non-Null Count  Dtype \n",
      "---  ------      --------------  ----- \n",
      " 0   id          34441 non-null  int64 \n",
      " 1   hadith_id   34441 non-null  int64 \n",
      " 2   source      34441 non-null  object\n",
      " 3   chapter_no  34441 non-null  int64 \n",
      " 4   hadith_no   34441 non-null  object\n",
      " 5   chapter     34441 non-null  object\n",
      " 6   chain_indx  34318 non-null  object\n",
      " 7   text_ar     34433 non-null  object\n",
      " 8   text_en     33588 non-null  object\n",
      "dtypes: int64(3), object(6)\n",
      "memory usage: 2.4+ MB\n"
     ]
    }
   ],
   "source": [
    "hadiths.info()"
   ]
  },
  {
   "cell_type": "code",
   "execution_count": 32,
   "metadata": {},
   "outputs": [
    {
     "data": {
      "text/html": [
       "<div>\n",
       "<style scoped>\n",
       "    .dataframe tbody tr th:only-of-type {\n",
       "        vertical-align: middle;\n",
       "    }\n",
       "\n",
       "    .dataframe tbody tr th {\n",
       "        vertical-align: top;\n",
       "    }\n",
       "\n",
       "    .dataframe thead th {\n",
       "        text-align: right;\n",
       "    }\n",
       "</style>\n",
       "<table border=\"1\" class=\"dataframe\">\n",
       "  <thead>\n",
       "    <tr style=\"text-align: right;\">\n",
       "      <th></th>\n",
       "      <th>id</th>\n",
       "      <th>hadith_id</th>\n",
       "      <th>chapter_no</th>\n",
       "      <th>hadith_no</th>\n",
       "      <th>chapter</th>\n",
       "      <th>chain_indx</th>\n",
       "      <th>text_ar</th>\n",
       "      <th>text_en</th>\n",
       "    </tr>\n",
       "    <tr>\n",
       "      <th>source</th>\n",
       "      <th></th>\n",
       "      <th></th>\n",
       "      <th></th>\n",
       "      <th></th>\n",
       "      <th></th>\n",
       "      <th></th>\n",
       "      <th></th>\n",
       "      <th></th>\n",
       "    </tr>\n",
       "  </thead>\n",
       "  <tbody>\n",
       "    <tr>\n",
       "      <th>Sahih Muslim</th>\n",
       "      <td>7596</td>\n",
       "      <td>7596</td>\n",
       "      <td>7596</td>\n",
       "      <td>7596</td>\n",
       "      <td>7596</td>\n",
       "      <td>7558</td>\n",
       "      <td>7590</td>\n",
       "      <td>7242</td>\n",
       "    </tr>\n",
       "    <tr>\n",
       "      <th>Sahih Bukhari</th>\n",
       "      <td>7370</td>\n",
       "      <td>7370</td>\n",
       "      <td>7370</td>\n",
       "      <td>7370</td>\n",
       "      <td>7370</td>\n",
       "      <td>7336</td>\n",
       "      <td>7370</td>\n",
       "      <td>7193</td>\n",
       "    </tr>\n",
       "    <tr>\n",
       "      <th>Sunan an-Nasa'i</th>\n",
       "      <td>5774</td>\n",
       "      <td>5774</td>\n",
       "      <td>5774</td>\n",
       "      <td>5774</td>\n",
       "      <td>5774</td>\n",
       "      <td>5771</td>\n",
       "      <td>5774</td>\n",
       "      <td>5766</td>\n",
       "    </tr>\n",
       "    <tr>\n",
       "      <th>Sunan Abi Da'ud</th>\n",
       "      <td>5260</td>\n",
       "      <td>5260</td>\n",
       "      <td>5260</td>\n",
       "      <td>5260</td>\n",
       "      <td>5260</td>\n",
       "      <td>5253</td>\n",
       "      <td>5260</td>\n",
       "      <td>5260</td>\n",
       "    </tr>\n",
       "    <tr>\n",
       "      <th>Sunan Ibn Majah</th>\n",
       "      <td>4227</td>\n",
       "      <td>4227</td>\n",
       "      <td>4227</td>\n",
       "      <td>4227</td>\n",
       "      <td>4227</td>\n",
       "      <td>4211</td>\n",
       "      <td>4227</td>\n",
       "      <td>4099</td>\n",
       "    </tr>\n",
       "    <tr>\n",
       "      <th>Jami' al-Tirmidhi</th>\n",
       "      <td>4214</td>\n",
       "      <td>4214</td>\n",
       "      <td>4214</td>\n",
       "      <td>4214</td>\n",
       "      <td>4214</td>\n",
       "      <td>4189</td>\n",
       "      <td>4212</td>\n",
       "      <td>4028</td>\n",
       "    </tr>\n",
       "  </tbody>\n",
       "</table>\n",
       "</div>"
      ],
      "text/plain": [
       "                       id  hadith_id  chapter_no  hadith_no  chapter  \\\n",
       "source                                                                 \n",
       " Sahih Muslim        7596       7596        7596       7596     7596   \n",
       " Sahih Bukhari       7370       7370        7370       7370     7370   \n",
       " Sunan an-Nasa'i     5774       5774        5774       5774     5774   \n",
       " Sunan Abi Da'ud     5260       5260        5260       5260     5260   \n",
       " Sunan Ibn Majah     4227       4227        4227       4227     4227   \n",
       " Jami' al-Tirmidhi   4214       4214        4214       4214     4214   \n",
       "\n",
       "                     chain_indx  text_ar  text_en  \n",
       "source                                             \n",
       " Sahih Muslim              7558     7590     7242  \n",
       " Sahih Bukhari             7336     7370     7193  \n",
       " Sunan an-Nasa'i           5771     5774     5766  \n",
       " Sunan Abi Da'ud           5253     5260     5260  \n",
       " Sunan Ibn Majah           4211     4227     4099  \n",
       " Jami' al-Tirmidhi         4189     4212     4028  "
      ]
     },
     "execution_count": 32,
     "metadata": {},
     "output_type": "execute_result"
    }
   ],
   "source": [
    "hadiths.groupby(\"source\").count().sort_values(\"hadith_id\", ascending=False)"
   ]
  },
  {
   "cell_type": "code",
   "execution_count": 28,
   "metadata": {},
   "outputs": [
    {
     "data": {
      "text/html": [
       "<div>\n",
       "<style scoped>\n",
       "    .dataframe tbody tr th:only-of-type {\n",
       "        vertical-align: middle;\n",
       "    }\n",
       "\n",
       "    .dataframe tbody tr th {\n",
       "        vertical-align: top;\n",
       "    }\n",
       "\n",
       "    .dataframe thead th {\n",
       "        text-align: right;\n",
       "    }\n",
       "</style>\n",
       "<table border=\"1\" class=\"dataframe\">\n",
       "  <thead>\n",
       "    <tr style=\"text-align: right;\">\n",
       "      <th></th>\n",
       "      <th>id</th>\n",
       "      <th>hadith_id</th>\n",
       "      <th>source</th>\n",
       "      <th>chapter_no</th>\n",
       "      <th>hadith_no</th>\n",
       "      <th>chapter</th>\n",
       "      <th>chain_indx</th>\n",
       "      <th>text_ar</th>\n",
       "      <th>text_en</th>\n",
       "    </tr>\n",
       "  </thead>\n",
       "  <tbody>\n",
       "    <tr>\n",
       "      <th>0</th>\n",
       "      <td>0</td>\n",
       "      <td>1</td>\n",
       "      <td>Sahih Bukhari</td>\n",
       "      <td>1</td>\n",
       "      <td>1</td>\n",
       "      <td>Revelation - كتاب بدء الوحى</td>\n",
       "      <td>30418, 20005, 11062, 11213, 11042, 3</td>\n",
       "      <td>حدثنا الحميدي عبد الله بن الزبير، قال حدثنا سف...</td>\n",
       "      <td>Narrated 'Umar bin Al-Khattab:          ...</td>\n",
       "    </tr>\n",
       "    <tr>\n",
       "      <th>1</th>\n",
       "      <td>1</td>\n",
       "      <td>2</td>\n",
       "      <td>Sahih Bukhari</td>\n",
       "      <td>1</td>\n",
       "      <td>2</td>\n",
       "      <td>Revelation - كتاب بدء الوحى</td>\n",
       "      <td>30355, 20001, 11065, 10511, 53</td>\n",
       "      <td>حدثنا عبد الله بن يوسف، قال أخبرنا مالك، عن هش...</td>\n",
       "      <td>Narrated 'Aisha:                        ...</td>\n",
       "    </tr>\n",
       "    <tr>\n",
       "      <th>2</th>\n",
       "      <td>2</td>\n",
       "      <td>3</td>\n",
       "      <td>Sahih Bukhari</td>\n",
       "      <td>1</td>\n",
       "      <td>3</td>\n",
       "      <td>Revelation - كتاب بدء الوحى</td>\n",
       "      <td>30399, 20023, 11207, 11013, 10511, 53</td>\n",
       "      <td>حدثنا يحيى بن بكير، قال حدثنا الليث، عن عقيل، ...</td>\n",
       "      <td>Narrated 'Aisha:                       (the m...</td>\n",
       "    </tr>\n",
       "    <tr>\n",
       "      <th>3</th>\n",
       "      <td>3</td>\n",
       "      <td>4</td>\n",
       "      <td>Sahih Bukhari</td>\n",
       "      <td>1</td>\n",
       "      <td>4</td>\n",
       "      <td>Revelation - كتاب بدء الوحى</td>\n",
       "      <td>11013, 10567, 34</td>\n",
       "      <td>قال ابن شهاب وأخبرني أبو سلمة بن عبد الرحمن، أ...</td>\n",
       "      <td>Narrated Jabir bin 'Abdullah Al-Ansari while ...</td>\n",
       "    </tr>\n",
       "    <tr>\n",
       "      <th>4</th>\n",
       "      <td>4</td>\n",
       "      <td>5</td>\n",
       "      <td>Sahih Bukhari</td>\n",
       "      <td>1</td>\n",
       "      <td>5</td>\n",
       "      <td>Revelation - كتاب بدء الوحى</td>\n",
       "      <td>20040, 20469, 11399, 11050, 17</td>\n",
       "      <td>حدثنا موسى بن إسماعيل، قال حدثنا أبو عوانة، قا...</td>\n",
       "      <td>Narrated Said bin Jubair:               ...</td>\n",
       "    </tr>\n",
       "  </tbody>\n",
       "</table>\n",
       "</div>"
      ],
      "text/plain": [
       "   id  hadith_id           source  chapter_no hadith_no  \\\n",
       "0   0          1   Sahih Bukhari            1        1    \n",
       "1   1          2   Sahih Bukhari            1        2    \n",
       "2   2          3   Sahih Bukhari            1        3    \n",
       "3   3          4   Sahih Bukhari            1        4    \n",
       "4   4          5   Sahih Bukhari            1        5    \n",
       "\n",
       "                       chapter                             chain_indx  \\\n",
       "0  Revelation - كتاب بدء الوحى   30418, 20005, 11062, 11213, 11042, 3   \n",
       "1  Revelation - كتاب بدء الوحى         30355, 20001, 11065, 10511, 53   \n",
       "2  Revelation - كتاب بدء الوحى  30399, 20023, 11207, 11013, 10511, 53   \n",
       "3  Revelation - كتاب بدء الوحى                       11013, 10567, 34   \n",
       "4  Revelation - كتاب بدء الوحى         20040, 20469, 11399, 11050, 17   \n",
       "\n",
       "                                             text_ar  \\\n",
       "0  حدثنا الحميدي عبد الله بن الزبير، قال حدثنا سف...   \n",
       "1  حدثنا عبد الله بن يوسف، قال أخبرنا مالك، عن هش...   \n",
       "2  حدثنا يحيى بن بكير، قال حدثنا الليث، عن عقيل، ...   \n",
       "3  قال ابن شهاب وأخبرني أبو سلمة بن عبد الرحمن، أ...   \n",
       "4  حدثنا موسى بن إسماعيل، قال حدثنا أبو عوانة، قا...   \n",
       "\n",
       "                                             text_en  \n",
       "0        Narrated 'Umar bin Al-Khattab:          ...  \n",
       "1        Narrated 'Aisha:                        ...  \n",
       "2   Narrated 'Aisha:                       (the m...  \n",
       "3   Narrated Jabir bin 'Abdullah Al-Ansari while ...  \n",
       "4        Narrated Said bin Jubair:               ...  "
      ]
     },
     "execution_count": 28,
     "metadata": {},
     "output_type": "execute_result"
    }
   ],
   "source": [
    "hadiths.head()"
   ]
  },
  {
   "cell_type": "code",
   "execution_count": 18,
   "metadata": {},
   "outputs": [
    {
     "name": "stdout",
     "output_type": "stream",
     "text": [
      "<class 'pandas.core.frame.DataFrame'>\n",
      "RangeIndex: 24326 entries, 0 to 24325\n",
      "Data columns (total 25 columns):\n",
      " #   Column                Non-Null Count  Dtype  \n",
      "---  ------                --------------  -----  \n",
      " 0   scholar_indx          24326 non-null  int64  \n",
      " 1   name                  24326 non-null  object \n",
      " 2   grade                 24326 non-null  object \n",
      " 3   parents               3012 non-null   object \n",
      " 4   spouse                1010 non-null   object \n",
      " 5   siblings              2068 non-null   object \n",
      " 6   children              1583 non-null   object \n",
      " 7   birth_date_place      7555 non-null   object \n",
      " 8   places_of_stay        16728 non-null  object \n",
      " 9   death_date_place      24320 non-null  object \n",
      " 10  teachers              13436 non-null  object \n",
      " 11  students              6499 non-null   object \n",
      " 12  area_of_interest      24272 non-null  object \n",
      " 13  tags                  15666 non-null  object \n",
      " 14  books                 6 non-null      object \n",
      " 15  students_inds         6124 non-null   object \n",
      " 16  teachers_inds         13104 non-null  object \n",
      " 17  birth_place           7364 non-null   object \n",
      " 18  birth_date            7555 non-null   object \n",
      " 19  birth_date_hijri      386 non-null    float64\n",
      " 20  birth_date_gregorian  106 non-null    float64\n",
      " 21  death_date_hijri      3951 non-null   float64\n",
      " 22  death_date_gregorian  554 non-null    float64\n",
      " 23  death_place           2675 non-null   object \n",
      " 24  death_reason          24188 non-null  object \n",
      "dtypes: float64(4), int64(1), object(20)\n",
      "memory usage: 4.6+ MB\n"
     ]
    }
   ],
   "source": [
    "rawis.info()"
   ]
  },
  {
   "cell_type": "code",
   "execution_count": 34,
   "metadata": {},
   "outputs": [
    {
     "data": {
      "text/plain": [
       "array(['Rasool Allah', 'Comp.(RA) [1st Generation]', 'Comp.(RA)',\n",
       "       'Comp.(RA) [3rd Generation]', 'Comp.(RA) [4th generation]',\n",
       "       'Comp.(RA) [2nd Generation]', \"Follower(Tabi')\",\n",
       "       'Comp.(RA) [6th generation]', 'Comp.(RA) [7th generation]',\n",
       "       \"Prophet's Relative\", \"Prophet's Relative [Non-Muslim]\",\n",
       "       \"Follower(Tabi') [2nd Generation]\",\n",
       "       \"Follower(Tabi') [3rd Generation]\",\n",
       "       \"Follower(Tabi') [6th generation]\",\n",
       "       \"Follower(Tabi') [4th generation]\",\n",
       "       \"Follower(Tabi') [5th generation]\",\n",
       "       \"Follower(Tabi') [1st Generation]\",\n",
       "       \"Follower(Tabi') [8th generation]\", \"Succ. (Taba' Tabi')\",\n",
       "       \"Follower(Tabi') [11th generation]\",\n",
       "       \"Follower(Tabi') [7th generation]\",\n",
       "       \"Follower(Tabi') [9th generation]\",\n",
       "       \"Succ. (Taba' Tabi') [7th generation] [Maliki]\",\n",
       "       \"Succ. (Taba' Tabi') [9th generation] [Shafi'ee]\",\n",
       "       \"Succ. (Taba' Tabi') [Hanafi]\",\n",
       "       \"Succ. (Taba' Tabi') [8th generation]\",\n",
       "       \"Succ. (Taba' Tabi') [7th generation]\",\n",
       "       \"Succ. (Taba' Tabi') [6th generation]\",\n",
       "       \"Succ. (Taba' Tabi') [9th generation]\",\n",
       "       \"Succ. (Taba' Tabi') [10th generation]\",\n",
       "       \"3rd Century AH [11th generation] [Shafi'ee]\",\n",
       "       '3rd Century AH [11th generation] [Hanafi]',\n",
       "       \"3rd Century AH [Shafi'ee]\", '3rd Century AH [12th generation]',\n",
       "       '3rd Century AH [10th generation] [Hanbali]',\n",
       "       '3rd Century AH [10th generation]', '3rd Century AH',\n",
       "       '3rd Century AH [11th generation]',\n",
       "       '3rd Century AH [10th generation] [Hanafi]',\n",
       "       '4th Century AH [Other]', '4th Century AH',\n",
       "       \"4th Century AH [Shafi'ee]\", '4th Century AH [Hanbali]'],\n",
       "      dtype=object)"
      ]
     },
     "execution_count": 34,
     "metadata": {},
     "output_type": "execute_result"
    }
   ],
   "source": [
    "rawis.grade.unique()"
   ]
  },
  {
   "cell_type": "code",
   "execution_count": 15,
   "metadata": {},
   "outputs": [
    {
     "data": {
      "text/plain": [
       "Index(['scholar_indx', 'name', 'grade', 'parents', 'spouse', 'siblings',\n",
       "       'children', 'birth_date_place', 'places_of_stay', 'death_date_place',\n",
       "       'teachers', 'students', 'area_of_interest', 'tags', 'books',\n",
       "       'students_inds', 'teachers_inds', 'birth_place', 'birth_date',\n",
       "       'birth_date_hijri', 'birth_date_gregorian', 'death_date_hijri',\n",
       "       'death_date_gregorian', 'death_place', 'death_reason'],\n",
       "      dtype='object')"
      ]
     },
     "execution_count": 15,
     "metadata": {},
     "output_type": "execute_result"
    }
   ],
   "source": [
    "rawis.columns"
   ]
  },
  {
   "cell_type": "code",
   "execution_count": 16,
   "metadata": {},
   "outputs": [
    {
     "data": {
      "text/plain": [
       "0    1\n",
       "1    2\n",
       "2    3\n",
       "3    4\n",
       "4    5\n",
       "Name: scholar_indx, dtype: int64"
      ]
     },
     "execution_count": 16,
     "metadata": {},
     "output_type": "execute_result"
    }
   ],
   "source": [
    "rawis.scholar_indx.head()"
   ]
  },
  {
   "cell_type": "code",
   "execution_count": 27,
   "metadata": {},
   "outputs": [
    {
     "data": {
      "text/plain": [
       "5    Recitation/Quran, Narrator [ ع  -  صحابة ], Co...\n",
       "Name: area_of_interest, dtype: object"
      ]
     },
     "execution_count": 27,
     "metadata": {},
     "output_type": "execute_result"
    }
   ],
   "source": [
    "rawis[rawis['scholar_indx'] == 6][\"area_of_interest\"]"
   ]
  },
  {
   "cell_type": "code",
   "execution_count": null,
   "metadata": {},
   "outputs": [],
   "source": [
    "rawis[rawis['scholar_indx'] == 3]"
   ]
  }
 ],
 "metadata": {
  "kernelspec": {
   "display_name": "Python 3",
   "language": "python",
   "name": "python3"
  },
  "language_info": {
   "codemirror_mode": {
    "name": "ipython",
    "version": 3
   },
   "file_extension": ".py",
   "mimetype": "text/x-python",
   "name": "python",
   "nbconvert_exporter": "python",
   "pygments_lexer": "ipython3",
   "version": "3.11.4"
  }
 },
 "nbformat": 4,
 "nbformat_minor": 2
}
